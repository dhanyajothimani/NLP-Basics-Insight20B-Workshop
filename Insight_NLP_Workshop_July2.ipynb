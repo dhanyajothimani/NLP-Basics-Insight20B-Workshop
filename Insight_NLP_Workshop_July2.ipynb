{
  "nbformat": 4,
  "nbformat_minor": 0,
  "metadata": {
    "colab": {
      "name": "Insight_NLP_Workshop_July2.ipynb",
      "provenance": []
    },
    "kernelspec": {
      "name": "python3",
      "display_name": "Python 3"
    }
  },
  "cells": [
    {
      "cell_type": "markdown",
      "metadata": {
        "id": "XcMTyzkUbMc6",
        "colab_type": "text"
      },
      "source": [
        "#**Introduction of Natural Language Processing (NLP)**\n",
        "\n",
        "At the end of this workshop, you will be able to understand\n",
        "\n",
        "*   the basic NLP pipeline\n",
        "*   the different word embeddings and their pros and cons \n",
        "*   how to use custom stop words\n",
        "*   the implementation of NLP in Python \n",
        "*   how to use Google Colab (- if you are not already familiar :) )\n",
        "\n"
      ]
    },
    {
      "cell_type": "markdown",
      "metadata": {
        "id": "BreSY3Shgnd9",
        "colab_type": "text"
      },
      "source": [
        "## **What is NLP?** \n",
        "\n",
        "- Sub field of Computer Science and Artificial Intelligence that focuses on interactions between computer and human (natural) languages \n",
        "- Application of machine learning (ML) and deep learning (DL) algorithms to text and speech (datasets). \n",
        "- Applications: Speech recognition, machine translation, spam detection, auto complete/next word suggestion, chat bot etc. \n"
      ]
    },
    {
      "cell_type": "markdown",
      "metadata": {
        "id": "uQHqntZo8yi9",
        "colab_type": "text"
      },
      "source": [
        "# **NLP Pipeline**\n",
        "\n",
        "Here, NLP pipeline refers to the pre-processing steps that should be applied on the text data before proceeding towards the machine learning aspect of the model. \n",
        "\n",
        "For example, the **objective** of a project is identification of e-mails as spam (or non-spam). \n",
        "\n",
        "1.   Identification of *type of ML problem*: Classification (using text data)\n",
        "2.   ML algorithms: Multinomial naive bayes, Logistic Regression and Support Vector Machine\n",
        "\n",
        "Great! We have an idea about the type of problem and what possible ML algorithms to use. But before that, how do we process the text data?  \n",
        "\n",
        "Here is an outline of the steps that we could use for processig the text data:\n",
        "\n",
        "### **Text Pre-processing** \n",
        "\n",
        "1.   Spell check (- depending on the context)\n",
        "1.   Sentence Tokenization\n",
        "2.   Word Tokenization\n",
        "3.   Conversion to lower case\n",
        "4.   Lemmatization and Stemming \n",
        "5.   Removal of puncatuations and stop words (and numbers - depending on the context)\n",
        "6.   Parts-of-speech (POS) tagging \n",
        "7.   Creation of n-grams \n",
        "\n",
        "### **Exploratory Analysis**\n",
        "\n",
        "1.   Word Cloud\n",
        "2.   Distribution of data with respect to each class \n",
        "\n",
        "### **Word Embeddings** \n",
        "\n",
        "1.   Bag-of-Words (BoW)\n",
        "2.   Term Frequency (TF)\n",
        "3.   Term Frequency - Inverse Document Frequency (TF - IDF)\n",
        "4.   Pre-trained (Neural) Word Embeddings \n",
        "\n",
        "> * Word level embeddings: Word2Vec and Glove \n",
        "> * Character level embeddings: ELMo and Flair \n",
        "\n",
        "We will explore each of these topics using a dataset. \n"
      ]
    },
    {
      "cell_type": "markdown",
      "metadata": {
        "id": "vTkwt96ZLEDR",
        "colab_type": "text"
      },
      "source": [
        ""
      ]
    },
    {
      "cell_type": "code",
      "metadata": {
        "id": "CaudFkHQbEMS",
        "colab_type": "code",
        "colab": {}
      },
      "source": [
        "import pandas as pd \n",
        "import numpy as np "
      ],
      "execution_count": 1,
      "outputs": []
    }
  ]
}